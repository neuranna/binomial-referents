{
 "cells": [
  {
   "cell_type": "markdown",
   "metadata": {},
   "source": [
    "This notebook processes results from the norming experiment. More information about how the data file is organized can be found at http://spellout.net/latest_ibex_manual.pdf\n",
    "The columns most relevant for us are: field (image identifier) and value (label provided for the image by the participant)."
   ]
  },
  {
   "cell_type": "code",
   "execution_count": 38,
   "metadata": {
    "collapsed": true
   },
   "outputs": [],
   "source": [
    "import pandas as pd\n",
    "import numpy as np\n",
    "import matplotlib as plt\n",
    "from nltk.metrics import edit_distance\n",
    "from collections import Counter\n",
    "import json"
   ]
  },
  {
   "cell_type": "code",
   "execution_count": 26,
   "metadata": {
    "collapsed": false
   },
   "outputs": [
    {
     "data": {
      "text/html": [
       "<div>\n",
       "<style scoped>\n",
       "    .dataframe tbody tr th:only-of-type {\n",
       "        vertical-align: middle;\n",
       "    }\n",
       "\n",
       "    .dataframe tbody tr th {\n",
       "        vertical-align: top;\n",
       "    }\n",
       "\n",
       "    .dataframe thead th {\n",
       "        text-align: right;\n",
       "    }\n",
       "</style>\n",
       "<table border=\"1\" class=\"dataframe\">\n",
       "  <thead>\n",
       "    <tr style=\"text-align: right;\">\n",
       "      <th></th>\n",
       "      <th>Time</th>\n",
       "      <th>IPHash</th>\n",
       "      <th>Controller</th>\n",
       "      <th>Item</th>\n",
       "      <th>Element</th>\n",
       "      <th>Type</th>\n",
       "      <th>Group</th>\n",
       "      <th>Field</th>\n",
       "      <th>Value</th>\n",
       "    </tr>\n",
       "  </thead>\n",
       "  <tbody>\n",
       "    <tr>\n",
       "      <th>0</th>\n",
       "      <td>1512400181</td>\n",
       "      <td>db217f722ff04706309805a1bed8ff84</td>\n",
       "      <td>Form</td>\n",
       "      <td>0</td>\n",
       "      <td>0</td>\n",
       "      <td>intro</td>\n",
       "      <td>NaN</td>\n",
       "      <td>_REACTION_TIME_</td>\n",
       "      <td>3503</td>\n",
       "    </tr>\n",
       "    <tr>\n",
       "      <th>1</th>\n",
       "      <td>1512400181</td>\n",
       "      <td>db217f722ff04706309805a1bed8ff84</td>\n",
       "      <td>Form</td>\n",
       "      <td>24</td>\n",
       "      <td>0</td>\n",
       "      <td>image</td>\n",
       "      <td>NaN</td>\n",
       "      <td>imageLabel3680685</td>\n",
       "      <td>tamborine</td>\n",
       "    </tr>\n",
       "    <tr>\n",
       "      <th>2</th>\n",
       "      <td>1512400181</td>\n",
       "      <td>db217f722ff04706309805a1bed8ff84</td>\n",
       "      <td>Form</td>\n",
       "      <td>24</td>\n",
       "      <td>0</td>\n",
       "      <td>image</td>\n",
       "      <td>NaN</td>\n",
       "      <td>_REACTION_TIME_</td>\n",
       "      <td>6931</td>\n",
       "    </tr>\n",
       "    <tr>\n",
       "      <th>3</th>\n",
       "      <td>1512400181</td>\n",
       "      <td>db217f722ff04706309805a1bed8ff84</td>\n",
       "      <td>Form</td>\n",
       "      <td>149</td>\n",
       "      <td>0</td>\n",
       "      <td>image</td>\n",
       "      <td>NaN</td>\n",
       "      <td>imageLabel3682968</td>\n",
       "      <td>lawn mower</td>\n",
       "    </tr>\n",
       "    <tr>\n",
       "      <th>4</th>\n",
       "      <td>1512400181</td>\n",
       "      <td>db217f722ff04706309805a1bed8ff84</td>\n",
       "      <td>Form</td>\n",
       "      <td>149</td>\n",
       "      <td>0</td>\n",
       "      <td>image</td>\n",
       "      <td>NaN</td>\n",
       "      <td>_REACTION_TIME_</td>\n",
       "      <td>5846</td>\n",
       "    </tr>\n",
       "  </tbody>\n",
       "</table>\n",
       "</div>"
      ],
      "text/plain": [
       "         Time                            IPHash Controller  Item  Element  \\\n",
       "0  1512400181  db217f722ff04706309805a1bed8ff84       Form     0        0   \n",
       "1  1512400181  db217f722ff04706309805a1bed8ff84       Form    24        0   \n",
       "2  1512400181  db217f722ff04706309805a1bed8ff84       Form    24        0   \n",
       "3  1512400181  db217f722ff04706309805a1bed8ff84       Form   149        0   \n",
       "4  1512400181  db217f722ff04706309805a1bed8ff84       Form   149        0   \n",
       "\n",
       "    Type  Group              Field       Value  \n",
       "0  intro    NaN    _REACTION_TIME_        3503  \n",
       "1  image    NaN  imageLabel3680685   tamborine  \n",
       "2  image    NaN    _REACTION_TIME_        6931  \n",
       "3  image    NaN  imageLabel3682968  lawn mower  \n",
       "4  image    NaN    _REACTION_TIME_        5846  "
      ]
     },
     "execution_count": 26,
     "metadata": {},
     "output_type": "execute_result"
    }
   ],
   "source": [
    "data = pd.read_csv(\"../Data/Main/norming_results.txt\", comment='#', header=None, \n",
    "                   names=['Time', 'IPHash', 'Controller', 'Item', 'Element', 'Type', 'Group', 'Field', 'Value']) \n",
    "data['Value'] = data['Value'].str.lower()\n",
    "data['Value'] = data['Value'].str.strip()\n",
    "data.head()"
   ]
  },
  {
   "cell_type": "code",
   "execution_count": 27,
   "metadata": {
    "collapsed": false
   },
   "outputs": [
    {
     "data": {
      "text/plain": [
       "False"
      ]
     },
     "execution_count": 27,
     "metadata": {},
     "output_type": "execute_result"
    }
   ],
   "source": [
    "# check whether all are native speakers\n",
    "lang_responses = data['Value'][data['Field'] == 'language'].tolist() \n",
    "any([l != 'native' for l in lang_responses])\n",
    "# TODO: exclude non-native speakers if present"
   ]
  },
  {
   "cell_type": "code",
   "execution_count": 28,
   "metadata": {
    "collapsed": false
   },
   "outputs": [],
   "source": [
    "# Optional: check comments\n",
    "#data['Value'][data['Field'] == 'comments'].tolist() "
   ]
  },
  {
   "cell_type": "code",
   "execution_count": 29,
   "metadata": {
    "collapsed": false
   },
   "outputs": [],
   "source": [
    "def ignore_spelling(word_counter):\n",
    "    DISTANCE_THRESHOLD = 3\n",
    "    best_label = word_counter.most_common(1)[0][0]\n",
    "    new_counter = word_counter.copy()\n",
    "    for label in word_counter:\n",
    "        if edit_distance(label, best_label) in range(1,DISTANCE_THRESHOLD):\n",
    "                new_counter[best_label] += word_counter[label]\n",
    "                del new_counter[label]\n",
    "    return new_counter"
   ]
  },
  {
   "cell_type": "code",
   "execution_count": 30,
   "metadata": {
    "collapsed": false
   },
   "outputs": [
    {
     "data": {
      "text/plain": [
       "Counter({'bangle': 1,\n",
       "         'cymbal': 2,\n",
       "         'instrument': 3,\n",
       "         'none': 2,\n",
       "         'tambaray': 1,\n",
       "         'tamberin': 1,\n",
       "         'tambourine': 26})"
      ]
     },
     "execution_count": 30,
     "metadata": {},
     "output_type": "execute_result"
    }
   ],
   "source": [
    "# test ignore_spelling\n",
    "labels = data['Value'][data['Field'] == 'imageLabel3680685'].tolist() \n",
    "labels_count = Counter(labels)\n",
    "ignore_spelling(labels_count)"
   ]
  },
  {
   "cell_type": "code",
   "execution_count": 31,
   "metadata": {
    "collapsed": false
   },
   "outputs": [
    {
     "name": "stdout",
     "output_type": "stream",
     "text": [
      "164\n",
      "294\n"
     ]
    }
   ],
   "source": [
    "# ACTUAL ANALYSIS\n",
    "\n",
    "QUALITY_THRESHOLD = 0.8\n",
    "\n",
    "images = data['Field'].unique().tolist()\n",
    "images.remove('_REACTION_TIME_')\n",
    "images.remove('comments')\n",
    "images.remove('language')\n",
    "images.remove('easiness')\n",
    "total_images = len(images)\n",
    "good_images = []\n",
    "\n",
    "for image in images:\n",
    "    labels = data['Value'][data['Field'] == image].tolist()    # get the list of all labels for the image\n",
    "    num_labels = len(labels)\n",
    "    labels_count = Counter(labels)      # returns a dict of counts (sorted from max to min)\n",
    "    # account for spelling errors\n",
    "    labels_count = ignore_spelling(labels_count)\n",
    "    if (1.0 * labels_count.most_common(1)[0][1] / num_labels) >= QUALITY_THRESHOLD:\n",
    "        best_label = labels_count.most_common(1)[0][0]\n",
    "        good_images.append([image, best_label])\n",
    "print(len(good_images))\n",
    "print(total_images)"
   ]
  },
  {
   "cell_type": "code",
   "execution_count": 32,
   "metadata": {
    "collapsed": false
   },
   "outputs": [],
   "source": [
    "def change_to_index(label_list):\n",
    "    \"\"\"Takes an [image_num, label] list as input and converts image_num to index. \n",
    "    Returns two dicts of form index: label (one for 'object', one for 'match').\"\"\"\n",
    "    \n",
    "    match_start_index = 3680562\n",
    "    object_start_index = 3682968\n",
    "    match_dict = {}\n",
    "    object_dict = {}\n",
    "    \n",
    "    for i in range(len(label_list)):\n",
    "        # convert string to corresponding number\n",
    "        number = int(label_list[i][0].replace('imageLabel', ''))\n",
    "        if number >= object_start_index:\n",
    "            index = (number - object_start_index) / 3\n",
    "            object_dict[index] = label_list[i][1]\n",
    "        else:\n",
    "            index = (number - match_start_index) / 3\n",
    "            match_dict[index] = label_list[i][1]\n",
    "    return [match_dict, object_dict]\n",
    "\n",
    "def leave_only_pairs(dict1, dict2):\n",
    "    \"\"\"Removes dict entries that are not present in both\"\"\"\n",
    "    new_dict1 = dict1.copy()\n",
    "    new_dict2 = dict2.copy()\n",
    "    for key in dict1:\n",
    "        if key not in dict2:\n",
    "            del new_dict1[key]\n",
    "    # repeat for the other dict\n",
    "    for key in dict2:\n",
    "        if key not in dict1:\n",
    "            del new_dict2[key]\n",
    "    return [new_dict1, new_dict2]\n",
    "\n",
    "def merge_dicts(dict1, dict2):\n",
    "    \"\"\"Pre: dicts have the same set of keys\"\"\"\n",
    "    new_dict = {}\n",
    "    for key in dict1:\n",
    "        new_dict[key] = [dict1[key], dict2[key]]\n",
    "    return new_dict"
   ]
  },
  {
   "cell_type": "code",
   "execution_count": 33,
   "metadata": {
    "collapsed": false
   },
   "outputs": [],
   "source": [
    "[match_dict, object_dict] = change_to_index(good_images)\n",
    "[match_dict, object_dict] = leave_only_pairs(match_dict, object_dict)\n",
    "label_dict = merge_dicts(match_dict, object_dict)"
   ]
  },
  {
   "cell_type": "code",
   "execution_count": 34,
   "metadata": {
    "collapsed": false
   },
   "outputs": [],
   "source": [
    "# exclusion indices (mostly based on unequal object size, e.g. \"motorcycle and helmet\")\n",
    "to_exclude = [319, 168, 303, 177, 53, 340, 2, 356, 385, 19, 398, 391, 312, 111, 124, 18, ]\n",
    "\n",
    "for index in to_exclude:\n",
    "    del label_dict[index]"
   ]
  },
  {
   "cell_type": "code",
   "execution_count": 35,
   "metadata": {
    "collapsed": false
   },
   "outputs": [
    {
     "name": "stdout",
     "output_type": "stream",
     "text": [
      "{107: ['pipe', 'cigar'], 135: ['book', 'typewriter'], 392: ['shark', 'dolphin'], 394: ['skateboard', 'scooter'], 11: ['starfish', 'fish'], 272: ['slingshot', 'bow'], 145: ['strawberry', 'raspberry'], 156: ['toaster', 'microwave'], 31: ['football', 'basketball'], 161: ['chair', 'pillow'], 162: ['door', 'window'], 36: ['toaster', 'bread'], 46: ['starfish', 'seahorse'], 180: ['lion', 'tiger'], 54: ['screwdriver', 'hammer'], 287: ['snowflake', 'ornament'], 188: ['flashlight', 'lamp'], 194: ['bowl', 'plate'], 71: ['turtle', 'fish'], 336: ['typewriter', 'keyboard'], 211: ['screw', 'hinge'], 213: ['pipe', 'hookah'], 344: ['leash', 'dog'], 89: ['desk', 'chair'], 348: ['train', 'bridge'], 97: ['keyboard', 'mouse'], 358: ['donkey', 'camel'], 361: ['lock', 'key'], 363: ['lemon', 'kiwi'], 371: ['bat', 'hat'], 116: ['duck', 'feather'], 117: ['medal', 'trophy'], 118: ['eagle', 'owl'], 105: ['guitar', 'microphone'], 122: ['monitor', 'printer'], 254: ['spoon', 'knife'], 127: ['lobster', 'shrimp']}\n"
     ]
    }
   ],
   "source": [
    "print(label_dict)"
   ]
  },
  {
   "cell_type": "code",
   "execution_count": 39,
   "metadata": {
    "collapsed": false
   },
   "outputs": [],
   "source": [
    "with open('../Data/Processed/label_dict.txt', 'w') as f:\n",
    "    json.dump(label_dict, f)"
   ]
  },
  {
   "cell_type": "code",
   "execution_count": null,
   "metadata": {
    "collapsed": true
   },
   "outputs": [],
   "source": []
  }
 ],
 "metadata": {
  "kernelspec": {
   "display_name": "Python 2",
   "language": "python",
   "name": "python2"
  },
  "language_info": {
   "codemirror_mode": {
    "name": "ipython",
    "version": 2
   },
   "file_extension": ".py",
   "mimetype": "text/x-python",
   "name": "python",
   "nbconvert_exporter": "python",
   "pygments_lexer": "ipython2",
   "version": "2.7.12"
  }
 },
 "nbformat": 4,
 "nbformat_minor": 1
}
