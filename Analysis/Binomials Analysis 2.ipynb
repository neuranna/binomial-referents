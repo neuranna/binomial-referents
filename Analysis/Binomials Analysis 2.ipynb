{
 "cells": [
  {
   "cell_type": "markdown",
   "metadata": {},
   "source": [
    "# Reformat the Data"
   ]
  },
  {
   "cell_type": "code",
   "execution_count": 4,
   "metadata": {
    "collapsed": true
   },
   "outputs": [],
   "source": [
    "import pandas as pd\n",
    "import numpy as np\n",
    "import itertools\n",
    "import matplotlib\n",
    "import matplotlib.pyplot as plt\n",
    "%matplotlib inline\n",
    "import json\n",
    "\n",
    "# SUPPORTING FUNCTIONS\n",
    "\n",
    "# retrieve binomial condition from item number\n",
    "def item2condition(number):\n",
    "    condNum = (number - 4) % 5\n",
    "    if condNum % 3 == 0:\n",
    "        return 1\n",
    "    elif condNum % 3 == 1:\n",
    "        return 2\n",
    "    else:\n",
    "        return 0\n",
    "    \n",
    "# decode the visual condition from the label\n",
    "def get_vis_condition(label):\n",
    "    condlist = label.split(\"+\")\n",
    "    return {'order': int(condlist[0]),\n",
    "           'size1': int(condlist[1]),\n",
    "           'size2': int(condlist[2]),\n",
    "           'location': int(condlist[3])}\n",
    "\n",
    "def get_all_vis_conditions(long_label):\n",
    "    labels = long_label.split(\"_\")\n",
    "    label_list = []\n",
    "    for i in range(3):\n",
    "        label_list.append(get_vis_condition(labels[i]))\n",
    "    return label_list\n",
    "\n",
    "def get_feature(label_list, i, feature_name):\n",
    "    return label_list[i][feature_name]"
   ]
  },
  {
   "cell_type": "code",
   "execution_count": 7,
   "metadata": {
    "collapsed": false
   },
   "outputs": [
    {
     "data": {
      "text/html": [
       "<div>\n",
       "<style scoped>\n",
       "    .dataframe tbody tr th:only-of-type {\n",
       "        vertical-align: middle;\n",
       "    }\n",
       "\n",
       "    .dataframe tbody tr th {\n",
       "        vertical-align: top;\n",
       "    }\n",
       "\n",
       "    .dataframe thead th {\n",
       "        text-align: right;\n",
       "    }\n",
       "</style>\n",
       "<table border=\"1\" class=\"dataframe\">\n",
       "  <thead>\n",
       "    <tr style=\"text-align: right;\">\n",
       "      <th></th>\n",
       "      <th>SUB</th>\n",
       "      <th>WORD_ORDER</th>\n",
       "      <th>ITEM</th>\n",
       "      <th>ORDER_TOP</th>\n",
       "      <th>SIZE_A_TOP</th>\n",
       "      <th>SIZE_B_TOP</th>\n",
       "      <th>ORDER_CENTER</th>\n",
       "      <th>SIZE_A_CENTER</th>\n",
       "      <th>SIZE_B_CENTER</th>\n",
       "      <th>ORDER_BOTTOM</th>\n",
       "      <th>SIZE_A_BOTTOM</th>\n",
       "      <th>SIZE_B_BOTTOM</th>\n",
       "      <th>CHOICE</th>\n",
       "    </tr>\n",
       "  </thead>\n",
       "  <tbody>\n",
       "    <tr>\n",
       "      <th>0</th>\n",
       "      <td>1513003540</td>\n",
       "      <td>0</td>\n",
       "      <td>24</td>\n",
       "      <td>2</td>\n",
       "      <td>60</td>\n",
       "      <td>120</td>\n",
       "      <td>1</td>\n",
       "      <td>120</td>\n",
       "      <td>60</td>\n",
       "      <td>2</td>\n",
       "      <td>120</td>\n",
       "      <td>60</td>\n",
       "      <td>CENTER</td>\n",
       "    </tr>\n",
       "    <tr>\n",
       "      <th>1</th>\n",
       "      <td>1513003540</td>\n",
       "      <td>2</td>\n",
       "      <td>21</td>\n",
       "      <td>1</td>\n",
       "      <td>120</td>\n",
       "      <td>120</td>\n",
       "      <td>1</td>\n",
       "      <td>120</td>\n",
       "      <td>60</td>\n",
       "      <td>2</td>\n",
       "      <td>120</td>\n",
       "      <td>60</td>\n",
       "      <td>TOP</td>\n",
       "    </tr>\n",
       "    <tr>\n",
       "      <th>2</th>\n",
       "      <td>1513003540</td>\n",
       "      <td>2</td>\n",
       "      <td>18</td>\n",
       "      <td>2</td>\n",
       "      <td>120</td>\n",
       "      <td>60</td>\n",
       "      <td>2</td>\n",
       "      <td>60</td>\n",
       "      <td>120</td>\n",
       "      <td>1</td>\n",
       "      <td>120</td>\n",
       "      <td>120</td>\n",
       "      <td>BOTTOM</td>\n",
       "    </tr>\n",
       "    <tr>\n",
       "      <th>3</th>\n",
       "      <td>1513003540</td>\n",
       "      <td>2</td>\n",
       "      <td>36</td>\n",
       "      <td>2</td>\n",
       "      <td>60</td>\n",
       "      <td>120</td>\n",
       "      <td>1</td>\n",
       "      <td>120</td>\n",
       "      <td>60</td>\n",
       "      <td>1</td>\n",
       "      <td>120</td>\n",
       "      <td>120</td>\n",
       "      <td>BOTTOM</td>\n",
       "    </tr>\n",
       "    <tr>\n",
       "      <th>4</th>\n",
       "      <td>1513003540</td>\n",
       "      <td>0</td>\n",
       "      <td>4</td>\n",
       "      <td>2</td>\n",
       "      <td>120</td>\n",
       "      <td>120</td>\n",
       "      <td>1</td>\n",
       "      <td>60</td>\n",
       "      <td>120</td>\n",
       "      <td>1</td>\n",
       "      <td>120</td>\n",
       "      <td>60</td>\n",
       "      <td>CENTER</td>\n",
       "    </tr>\n",
       "  </tbody>\n",
       "</table>\n",
       "</div>"
      ],
      "text/plain": [
       "          SUB  WORD_ORDER  ITEM  ORDER_TOP  SIZE_A_TOP  SIZE_B_TOP  \\\n",
       "0  1513003540           0    24          2          60         120   \n",
       "1  1513003540           2    21          1         120         120   \n",
       "2  1513003540           2    18          2         120          60   \n",
       "3  1513003540           2    36          2          60         120   \n",
       "4  1513003540           0     4          2         120         120   \n",
       "\n",
       "   ORDER_CENTER  SIZE_A_CENTER  SIZE_B_CENTER  ORDER_BOTTOM  SIZE_A_BOTTOM  \\\n",
       "0             1            120             60             2            120   \n",
       "1             1            120             60             2            120   \n",
       "2             2             60            120             1            120   \n",
       "3             1            120             60             1            120   \n",
       "4             1             60            120             1            120   \n",
       "\n",
       "   SIZE_B_BOTTOM  CHOICE  \n",
       "0             60  CENTER  \n",
       "1             60     TOP  \n",
       "2            120  BOTTOM  \n",
       "3            120  BOTTOM  \n",
       "4             60  CENTER  "
      ]
     },
     "execution_count": 7,
     "metadata": {},
     "output_type": "execute_result"
    }
   ],
   "source": [
    "# read the data\n",
    "data = pd.read_csv(\"../Data/Main/RSA_results.txt\", comment='#', header=None, \n",
    "                   names=['Time', 'IPHash', 'Controller', 'Item', 'Element', 'Type', 'Group', 'Field', 'Value']) \n",
    "del data['Controller']\n",
    "del data['Element']\n",
    "del data['IPHash']\n",
    "data = data[data['Field']!='_REACTION_TIME_']\n",
    "data = data[data['Type']=='image']\n",
    "\n",
    "data['Item'] = data['Item'].apply(item2condition)\n",
    "data['Field'] = data['Field'].apply(get_all_vis_conditions)\n",
    "data['Value'] = data['Value'].apply(get_vis_condition)\n",
    "data = data.reset_index(drop=True)\n",
    "data = data.rename(index=str, columns={\"Time\": \"SUB\", \"Item\": \"WORD_ORDER\", \"Group\": \"ITEM\"})\n",
    "del data['Type']\n",
    "\n",
    "# separate conditions\n",
    "\n",
    "location_names = ['TOP', 'CENTER', 'BOTTOM']\n",
    "feature_names = ['ORDER', 'SIZE_A', 'SIZE_B']\n",
    "features = ['order', 'size1', 'size2']\n",
    "for l in range(3):\n",
    "    for f in range(3):\n",
    "        col_name = feature_names[f] + '_' + location_names[l]\n",
    "        data[col_name] = data['Field'].apply(get_feature, args=(l, features[f]))\n",
    "data['CHOICE'] = data['Value'].apply(lambda x: x['location'])\n",
    "data['CHOICE'] = data['CHOICE'].apply(lambda i: location_names[i])\n",
    "data['ITEM'] = data['ITEM'].apply(lambda x: int(x))\n",
    "del data['Field']\n",
    "del data['Value']\n",
    "data.head()"
   ]
  },
  {
   "cell_type": "code",
   "execution_count": 8,
   "metadata": {
    "collapsed": true
   },
   "outputs": [],
   "source": [
    "# used for mixed effect regression analyses in R\n",
    "data.to_csv('../Data/Processed/binomials_data.csv', index=False)"
   ]
  },
  {
   "cell_type": "code",
   "execution_count": null,
   "metadata": {
    "collapsed": false
   },
   "outputs": [],
   "source": [
    "# retrieve & save prior data\n",
    "# used by mlogit in R to determine prior preferences used by the models \n",
    "\n",
    "def compare_size(size1, size2, order):\n",
    "    \"\"\"Returns -1 is the image on the left is larger,\n",
    "    1 if the image on the right is larger, and 0 if they are the same size\"\"\"\n",
    "\n",
    "    # make sure size1 refers to the left image\n",
    "    if order != 1:\n",
    "        tmp = size1\n",
    "        size1 = size2\n",
    "        size2 = tmp\n",
    "    if size1 < size2:\n",
    "        return 'SMALLER'\n",
    "    elif size1 > size2:\n",
    "        return 'LARGER'\n",
    "    else:\n",
    "        return 'EQUAL'\n",
    "    \n",
    "def get_relative_size(row):\n",
    "    choice = row['CHOICE']\n",
    "    return compare_size(row['SIZE_A_' + choice], row['SIZE_B_' + choice], row['ORDER_' + choice])\n",
    "\n",
    "prior_data = data[data['WORD_ORDER']==0]\n",
    "prior_data['CHOICE_SIZE'] = prior_data.apply(get_relative_size, axis=1) \n",
    "prior_data.to_csv('../Data/Processed/prior_data.csv', index=False)"
   ]
  },
  {
   "cell_type": "code",
   "execution_count": 29,
   "metadata": {
    "collapsed": true
   },
   "outputs": [],
   "source": [
    "### GO TO R, RUN PRIOR PREDICTION ANALYSES\n",
    "\n",
    "# then convert results into webppl-readable format here\n",
    "mlogit_prediction = pd.read_csv('../Data/Processed/predictions-mlogit.csv')\n",
    "del mlogit_prediction['Unnamed: 0']\n",
    "mlogit_prior = mlogit_prediction.values.tolist()\n",
    "with open('../Data/Processed/mlogit_prior.txt', 'w') as f:\n",
    "    json.dump(mlogit_prior, f)"
   ]
  },
  {
   "cell_type": "markdown",
   "metadata": {
    "collapsed": false
   },
   "source": [
    "# Prediction Scatterplots"
   ]
  },
  {
   "cell_type": "code",
   "execution_count": 13,
   "metadata": {
    "collapsed": true
   },
   "outputs": [],
   "source": [
    "# some extra processing\n",
    "def find_order_match(row):\n",
    "    for location in ['TOP', 'CENTER', 'BOTTOM']:\n",
    "        row['ORDER_' + location + '_MATCH'] = (row['ORDER_' + location] == row['WORD_ORDER'])\n",
    "    return row\n",
    "\n",
    "# exclude prior elicitation condition\n",
    "data_test = data[data['WORD_ORDER']!=0]\n",
    "data_test = data_test.reset_index()\n",
    "data_test = data_test.apply(find_order_match, axis=1)"
   ]
  },
  {
   "cell_type": "code",
   "execution_count": 14,
   "metadata": {
    "collapsed": false
   },
   "outputs": [],
   "source": [
    "# split data according to the combination of experimental conditions (order & size of 3 image pairs)\n",
    "def get_data_subset(data, location, params):\n",
    "    subset = data\n",
    "    subset = subset[subset['ORDER_' + location + '_MATCH'] == params['order_match']]\n",
    "    subset = subset[subset['SIZE_A_' + location] == params['size1']]\n",
    "    subset = subset[subset['SIZE_B_' + location] == params['size2']]\n",
    "    return subset\n",
    "\n",
    "param_combos = []\n",
    "for order_match in [True, False]:\n",
    "    for sizes in [[60, 120], [120, 120], [120, 60]]:\n",
    "        param_combos.append({'order_match': order_match, 'size1': sizes[0], 'size2': sizes[1]})\n",
    "\n",
    "all_combos = itertools.permutations(param_combos, 3)\n",
    "all_subsets = []\n",
    "locations = ['TOP', 'CENTER', 'BOTTOM']\n",
    "\n",
    "for combo in all_combos:\n",
    "    subset = data_test\n",
    "    for location, params in zip(locations, combo):\n",
    "        subset = get_data_subset(subset, location, params)\n",
    "    all_subsets.append(subset)"
   ]
  },
  {
   "cell_type": "code",
   "execution_count": 15,
   "metadata": {
    "collapsed": false
   },
   "outputs": [],
   "source": [
    "# used in the \"Scatterplot Data\" section of the model code\n",
    "indices = []\n",
    "for subset in all_subsets:\n",
    "    indices.append(int(subset.index[0]))\n",
    "    \n",
    "with open('../Data/Processed/indices2plot.txt', 'w') as f1:\n",
    "    json.dump(indices, f1)\n",
    "    \n",
    "### GO TO WEBPPL, run \"Scatterplot Data\" functions to get model predictions"
   ]
  },
  {
   "cell_type": "code",
   "execution_count": 16,
   "metadata": {
    "collapsed": false
   },
   "outputs": [],
   "source": [
    "# get participants' responses to each combination of experimental conditions\n",
    "choices = []\n",
    "for subset in all_subsets:\n",
    "    total = len(subset)\n",
    "    counts = subset['CHOICE'].value_counts()\n",
    "    for pos in ['TOP', 'CENTER', 'BOTTOM']:\n",
    "        if pos in counts.keys():\n",
    "            choices.append(counts[pos] * 1.0 / total)\n",
    "        else:\n",
    "            choices.append(0)"
   ]
  },
  {
   "cell_type": "code",
   "execution_count": 17,
   "metadata": {
    "collapsed": false
   },
   "outputs": [],
   "source": [
    "# get model predictions \n",
    "# source data produced by the \"Scatterplot Data\" section of the model code\n",
    "with open('../Data/Processed/plot_data_model0.txt', 'r') as f0:\n",
    "    data_m0 = json.load(f0)\n",
    "with open('../Data/Processed/plot_data_model1.txt', 'r') as f1:\n",
    "    data_m1 = json.load(f1)\n",
    "with open('../Data/Processed/plot_data_model2.txt', 'r') as f2:\n",
    "    data_m2 = json.load(f2)\n",
    "with open('../Data/Processed/plot_data_model1_noprior.txt', 'r') as f3:\n",
    "    data_m1_noprior = json.load(f3)\n",
    "with open('../Data/Processed/plot_data_model2_noprior.txt', 'r') as f4:\n",
    "    data_m2_noprior = json.load(f4)"
   ]
  },
  {
   "cell_type": "code",
   "execution_count": 19,
   "metadata": {
    "collapsed": false
   },
   "outputs": [],
   "source": [
    "values_m0 = [item for sublist in data_m0 for item in sublist]\n",
    "values_m1 = [item for sublist in data_m1 for item in sublist]\n",
    "values_m2 = [item for sublist in data_m2 for item in sublist]\n",
    "values_m1_noprior = [item for sublist in data_m1_noprior for item in sublist]\n",
    "values_m2_noprior = [item for sublist in data_m2_noprior for item in sublist]"
   ]
  },
  {
   "cell_type": "code",
   "execution_count": 20,
   "metadata": {
    "collapsed": false
   },
   "outputs": [
    {
     "data": {
      "image/png": "[encoded data removed]",
      "text/plain": [
       "<matplotlib.figure.Figure at 0x1078e9750>"
      ]
     },
     "metadata": {},
     "output_type": "display_data"
    }
   ],
   "source": [
    "fig = plt.figure(figsize=(12,2))\n",
    "values_all = [values_m0, values_m1_noprior, values_m2_noprior, values_m1, values_m2]\n",
    "colors = ['darkslategray', 'gray', '#66c2a4', '#2ca25f', '#238b45']\n",
    "model_names = ['Prior only', 'Non-scalar (no prior)', \n",
    "               'Scalar (no prior)', 'Non-scalar (with prior)', 'Scalar (with prior)']\n",
    "\n",
    "for index, (values, name) in enumerate(zip(values_all, model_names)):\n",
    "    r2 = round(np.corrcoef(values, choices)[0][1] ** 2, 2) \n",
    "    \n",
    "    ax = plt.subplot(1, 5, index+1)\n",
    "    plt.plot(values, choices, '.', color=colors[index])\n",
    "    plt.title(name + '\\n', fontsize=8.3, fontweight='semibold')\n",
    "    plt.xlabel('Model predictions\\nr' + r'$^2$ = ' + str(r2))\n",
    "    plt.ylabel('Participants\\' responses')\n",
    "    plt.xlim([0, 1])\n",
    "\n",
    "matplotlib.rcParams.update({'font.size': 8.3})\n",
    "fig.subplots_adjust(wspace=.45)    "
   ]
  },
  {
   "cell_type": "markdown",
   "metadata": {},
   "source": [
    "# Sample trial plot"
   ]
  },
  {
   "cell_type": "code",
   "execution_count": 27,
   "metadata": {
    "collapsed": false
   },
   "outputs": [],
   "source": [
    "# sample trials\n",
    "\n",
    "SMALL = 60\n",
    "LARGE = 120\n",
    "\n",
    "def get_choice_stats(data, params_all):\n",
    "    locations = ['TOP', 'CENTER', 'BOTTOM']\n",
    "    subset = data\n",
    "    for location, params in zip(locations, params_all):\n",
    "        subset = get_data_subset(subset, location, params)\n",
    "    results = subset['CHOICE'].value_counts() / len(subset)\n",
    "    found_locations = results.index\n",
    "    top = results['TOP'] if 'TOP' in found_locations else 0\n",
    "    center = results['CENTER'] if 'CENTER' in found_locations else 0\n",
    "    bottom = results['BOTTOM'] if 'BOTTOM' in found_locations else 0\n",
    "    return [top, center, bottom]\n",
    "\n",
    "order_only = {'order_match': True, 'size1': SMALL, 'size2': LARGE}\n",
    "size_only_l = {'order_match': False, 'size1': LARGE, 'size2': SMALL}\n",
    "size_only_e = {'order_match': False, 'size1': LARGE, 'size2': LARGE}\n",
    "both_l = {'order_match': True, 'size1': LARGE, 'size2': SMALL}\n",
    "both_e = {'order_match': True, 'size1': LARGE, 'size2': LARGE}\n",
    "\n",
    "nothing = {'order_match': False, 'size1': SMALL, 'size2': LARGE}\n",
    "\n",
    "def compare_conditions(ax, data, params1, params2, names1, names2):\n",
    "    results1 = get_choice_stats(data, params1)\n",
    "    results2 = get_choice_stats(data, params2)\n",
    "    width = 0.25\n",
    "    #colors = ['#fee391', '#fec44f', '#fe9929']   # orange\n",
    "    #colors = ['#cbc9e2', '#9e9ac8', '#756bb1']    # purple\n",
    "    colors = ['#6baed6', '#3182bd', '#08519c']   # blue\n",
    "    for pos, (result, names) in enumerate(zip([results1, results2], [names1, names2])):\n",
    "        plt.barh([pos + width], result[0], height=width, color=colors[0])\n",
    "        plt.barh([pos], result[1], height=width, color=colors[1])\n",
    "        plt.barh([pos - width], result[2], height=width, color=colors[2])   \n",
    "        \n",
    "    offset = width / 2\n",
    "    ticks = [[pos + offset + width, pos + offset, pos + offset - width] for pos in range(2)]\n",
    "    flatten = lambda l: [item for sublist in l for item in sublist]\n",
    "    ticks = flatten(ticks)\n",
    "    names1.extend(names2)\n",
    "    plt.yticks(ticks, names1)\n",
    "    plt.xlabel('Proportion of Choices')\n",
    "    plt.ylim([-0.35, 1.6])\n",
    "    plt.xlim([0, 1])"
   ]
  },
  {
   "cell_type": "code",
   "execution_count": 28,
   "metadata": {
    "collapsed": false
   },
   "outputs": [
    {
     "data": {
      "image/png": "[encoded data removed]",
      "text/plain": [
       "<matplotlib.figure.Figure at 0x107e53710>"
      ]
     },
     "metadata": {},
     "output_type": "display_data"
    }
   ],
   "source": [
    "# see extra effect of size\n",
    "params1 = [order_only, size_only_e, size_only_l]\n",
    "params2 = [order_only, size_only_e, nothing]\n",
    "params1names = ['left smaller', 'right equal', 'right larger']\n",
    "params2names = ['left smaller', 'right equal', 'right smaller']\n",
    "\n",
    "# see extra effect of order\n",
    "params3 = [size_only_l, size_only_e, order_only]\n",
    "params4 = [size_only_l, size_only_e, nothing]\n",
    "params3names = ['right larger', 'right equal', 'left smaller']\n",
    "params4names = ['right larger', 'right equal', 'right smaller']\n",
    "dummy_names = ['', '', '']\n",
    "\n",
    "fig = plt.figure(figsize=(10,4.2))\n",
    "matplotlib.rcParams.update({'font.family': 'sans-serif'})\n",
    "plt.yticks(fontsize=8)\n",
    "ax = plt.subplot(121)\n",
    "compare_conditions(ax, data, params3, params4, dummy_names, dummy_names)\n",
    "#compare_conditions(ax, data, params3, params4, params3names, params4names)\n",
    "#plt.title('Effect of order', fontsize=12)\n",
    "\n",
    "ax = plt.subplot(122)\n",
    "compare_conditions(ax, data, params1, params2, dummy_names, dummy_names)\n",
    "#compare_conditions(ax, data, params1, params2, params1names, params2names)\n",
    "#plt.title('Effect of size', fontsize=12)\n",
    "\n",
    "fig.subplots_adjust(wspace=.9)"
   ]
  }
 ],
 "metadata": {
  "kernelspec": {
   "display_name": "Python 2",
   "language": "python",
   "name": "python2"
  },
  "language_info": {
   "codemirror_mode": {
    "name": "ipython",
    "version": 2
   },
   "file_extension": ".py",
   "mimetype": "text/x-python",
   "name": "python",
   "nbconvert_exporter": "python",
   "pygments_lexer": "ipython2",
   "version": "2.7.12"
  }
 },
 "nbformat": 4,
 "nbformat_minor": 1
}
