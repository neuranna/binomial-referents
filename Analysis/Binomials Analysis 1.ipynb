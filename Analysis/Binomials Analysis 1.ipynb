{
 "cells": [
  {
   "cell_type": "code",
   "execution_count": 32,
   "metadata": {
    "collapsed": false
   },
   "outputs": [
    {
     "data": {
      "text/html": [
       "<div>\n",
       "<style scoped>\n",
       "    .dataframe tbody tr th:only-of-type {\n",
       "        vertical-align: middle;\n",
       "    }\n",
       "\n",
       "    .dataframe tbody tr th {\n",
       "        vertical-align: top;\n",
       "    }\n",
       "\n",
       "    .dataframe thead th {\n",
       "        text-align: right;\n",
       "    }\n",
       "</style>\n",
       "<table border=\"1\" class=\"dataframe\">\n",
       "  <thead>\n",
       "    <tr style=\"text-align: right;\">\n",
       "      <th></th>\n",
       "      <th>Time</th>\n",
       "      <th>IPHash</th>\n",
       "      <th>Item</th>\n",
       "      <th>Type</th>\n",
       "      <th>Group</th>\n",
       "      <th>Field</th>\n",
       "      <th>Value</th>\n",
       "    </tr>\n",
       "  </thead>\n",
       "  <tbody>\n",
       "    <tr>\n",
       "      <th>1</th>\n",
       "      <td>1513003540</td>\n",
       "      <td>4d746d235e3651899a1f17adc36c8142</td>\n",
       "      <td>XX</td>\n",
       "      <td>image</td>\n",
       "      <td>24.0</td>\n",
       "      <td>2+60+120+0_1+120+60+1_2+120+60+2</td>\n",
       "      <td>1+120+60+1</td>\n",
       "    </tr>\n",
       "    <tr>\n",
       "      <th>3</th>\n",
       "      <td>1513003540</td>\n",
       "      <td>4d746d235e3651899a1f17adc36c8142</td>\n",
       "      <td>BA</td>\n",
       "      <td>image</td>\n",
       "      <td>21.0</td>\n",
       "      <td>1+120+120+0_1+120+60+1_2+120+60+2</td>\n",
       "      <td>1+120+120+0</td>\n",
       "    </tr>\n",
       "    <tr>\n",
       "      <th>5</th>\n",
       "      <td>1513003540</td>\n",
       "      <td>4d746d235e3651899a1f17adc36c8142</td>\n",
       "      <td>BA</td>\n",
       "      <td>image</td>\n",
       "      <td>18.0</td>\n",
       "      <td>2+120+60+0_2+60+120+1_1+120+120+2</td>\n",
       "      <td>1+120+120+2</td>\n",
       "    </tr>\n",
       "    <tr>\n",
       "      <th>7</th>\n",
       "      <td>1513003540</td>\n",
       "      <td>4d746d235e3651899a1f17adc36c8142</td>\n",
       "      <td>BA</td>\n",
       "      <td>image</td>\n",
       "      <td>36.0</td>\n",
       "      <td>2+60+120+0_1+120+60+1_1+120+120+2</td>\n",
       "      <td>1+120+120+2</td>\n",
       "    </tr>\n",
       "    <tr>\n",
       "      <th>9</th>\n",
       "      <td>1513003540</td>\n",
       "      <td>4d746d235e3651899a1f17adc36c8142</td>\n",
       "      <td>XX</td>\n",
       "      <td>image</td>\n",
       "      <td>4.0</td>\n",
       "      <td>2+120+120+0_1+60+120+1_1+120+60+2</td>\n",
       "      <td>1+60+120+1</td>\n",
       "    </tr>\n",
       "  </tbody>\n",
       "</table>\n",
       "</div>"
      ],
      "text/plain": [
       "         Time                            IPHash Item   Type  Group  \\\n",
       "1  1513003540  4d746d235e3651899a1f17adc36c8142   XX  image   24.0   \n",
       "3  1513003540  4d746d235e3651899a1f17adc36c8142   BA  image   21.0   \n",
       "5  1513003540  4d746d235e3651899a1f17adc36c8142   BA  image   18.0   \n",
       "7  1513003540  4d746d235e3651899a1f17adc36c8142   BA  image   36.0   \n",
       "9  1513003540  4d746d235e3651899a1f17adc36c8142   XX  image    4.0   \n",
       "\n",
       "                               Field        Value  \n",
       "1   2+60+120+0_1+120+60+1_2+120+60+2   1+120+60+1  \n",
       "3  1+120+120+0_1+120+60+1_2+120+60+2  1+120+120+0  \n",
       "5  2+120+60+0_2+60+120+1_1+120+120+2  1+120+120+2  \n",
       "7  2+60+120+0_1+120+60+1_1+120+120+2  1+120+120+2  \n",
       "9  2+120+120+0_1+60+120+1_1+120+60+2   1+60+120+1  "
      ]
     },
     "execution_count": 32,
     "metadata": {},
     "output_type": "execute_result"
    }
   ],
   "source": [
    "import pandas as pd\n",
    "import numpy as np\n",
    "import json\n",
    "import math\n",
    "import matplotlib\n",
    "import matplotlib.pyplot as plt\n",
    "import matplotlib.patches as mpatches\n",
    "%matplotlib inline\n",
    "\n",
    "# get binomial indices and names\n",
    "with open('../Data/Processed/label_dict.txt', 'r') as f:\n",
    "    indexed_labels = json.load(f)\n",
    "indices = sorted(indexed_labels.keys())\n",
    "\n",
    "# read the data\n",
    "data = pd.read_csv(\"../Data/Main/RSA_results.txt\", comment='#', header=None, \n",
    "                   names=['Time', 'IPHash', 'Controller', 'Item', 'Element', 'Type', 'Group', 'Field', 'Value']) \n",
    "\n",
    "# preprocessing\n",
    "def item2condition(number):\n",
    "    \"\"\"retrieve binomial condition from item number\n",
    "    according to the experimental design on Ibex Farm\"\"\"\n",
    "    condNum = (number - 4) % 5\n",
    "    if condNum % 3 == 0:\n",
    "        return \"AB\"\n",
    "    elif condNum % 3 == 1:\n",
    "        return \"BA\"\n",
    "    else:\n",
    "        return \"XX\"\n",
    "    \n",
    "del data['Controller']\n",
    "del data['Element']\n",
    "data['Item'] = data['Item'].apply(item2condition)\n",
    "data = data[data['Field']!='_REACTION_TIME_']\n",
    "data.head()"
   ]
  },
  {
   "cell_type": "code",
   "execution_count": 8,
   "metadata": {
    "collapsed": false
   },
   "outputs": [
    {
     "data": {
      "text/plain": [
       "106"
      ]
     },
     "execution_count": 8,
     "metadata": {},
     "output_type": "execute_result"
    }
   ],
   "source": [
    "# check the number of participants\n",
    "len(data['Time'].unique())"
   ]
  },
  {
   "cell_type": "code",
   "execution_count": 9,
   "metadata": {
    "collapsed": false
   },
   "outputs": [
    {
     "data": {
      "text/plain": [
       "False"
      ]
     },
     "execution_count": 9,
     "metadata": {},
     "output_type": "execute_result"
    }
   ],
   "source": [
    "# check language\n",
    "lang_responses = data['Value'][data['Field'] == 'language'].tolist() \n",
    "any([l != 'native' for l in lang_responses])\n",
    "# TODO: exclude non-native speakers if present"
   ]
  },
  {
   "cell_type": "code",
   "execution_count": 10,
   "metadata": {
    "collapsed": false
   },
   "outputs": [],
   "source": [
    "# get purpose\n",
    "#data['Value'][data['Field'] == 'purpose'].tolist()"
   ]
  },
  {
   "cell_type": "code",
   "execution_count": 11,
   "metadata": {
    "collapsed": false
   },
   "outputs": [],
   "source": [
    "# get comments\n",
    "#data['Value'][data['Field'] == 'comments'].tolist() "
   ]
  },
  {
   "cell_type": "code",
   "execution_count": 27,
   "metadata": {
    "collapsed": false
   },
   "outputs": [],
   "source": [
    "def get_vis_condition(label):\n",
    "    \"\"\"decode the visual condition from the label.\n",
    "    order: image order (1 - AB, 2 - BA)\n",
    "    size1, size2: size of images A and B\n",
    "    location: position of image pair on the screen (0 - top, 1 - center, 2 - bottom)\"\"\"\n",
    "    condlist = label.split(\"+\")\n",
    "    return {'order': int(condlist[0]),\n",
    "           'size1': int(condlist[1]),\n",
    "           'size2': int(condlist[2]),\n",
    "           'location': int(condlist[3])}\n",
    "\n",
    "def get_all_vis_conditions(long_label):\n",
    "    labels = long_label.split(\"_\")\n",
    "    label_list = []\n",
    "    for i in range(3):\n",
    "        label_list.append(get_vis_condition(labels[i]))\n",
    "    return label_list\n",
    "\n",
    "def get_binomial(group_num, indices, indexed_labels):\n",
    "    return indexed_labels[indices[group_num-1]]"
   ]
  },
  {
   "cell_type": "markdown",
   "metadata": {},
   "source": [
    "# Save the Data (for the modeling section)"
   ]
  },
  {
   "cell_type": "code",
   "execution_count": 31,
   "metadata": {
    "collapsed": false
   },
   "outputs": [],
   "source": [
    "# get results (exclude prior elicitation condition)\n",
    "raw_values = data['Value'][(data['Item']!='XX') & (data['Type'] == 'image')]\n",
    "raw_lists = data['Field'][(data['Item']!='XX') & (data['Type'] == 'image')]\n",
    "order = data['Item'][(data['Item']!='XX') & (data['Type'] == 'image')]\n",
    "values = raw_values.apply(get_vis_condition)\n",
    "lists = raw_lists.apply(get_all_vis_conditions)"
   ]
  },
  {
   "cell_type": "code",
   "execution_count": 16,
   "metadata": {
    "collapsed": false
   },
   "outputs": [
    {
     "data": {
      "text/plain": [
       "3052"
      ]
     },
     "execution_count": 16,
     "metadata": {},
     "output_type": "execute_result"
    }
   ],
   "source": [
    "len(values)"
   ]
  },
  {
   "cell_type": "code",
   "execution_count": 20,
   "metadata": {
    "collapsed": false
   },
   "outputs": [],
   "source": [
    "with open('../Data/Processed/lists.txt', 'w') as f1:\n",
    "    json.dump(lists.tolist(), f1)\n",
    "with open('../Data/Processed/values.txt', 'w') as f2:\n",
    "    json.dump(values.tolist(), f2)\n",
    "with open('../Data/Processed/order.txt', 'w') as f3:\n",
    "    json.dump(order.tolist(), f3)"
   ]
  },
  {
   "cell_type": "code",
   "execution_count": null,
   "metadata": {
    "collapsed": false
   },
   "outputs": [],
   "source": [
    "# unused\n",
    "groups = data['Group'][(data['Item']!='XX') & (data['Type'] == 'image')]\n",
    "groups = groups - 1\n",
    "with open('../Data/Processed/groups.txt', 'w') as f4:\n",
    "    json.dump(groups.tolist(), f4)"
   ]
  },
  {
   "cell_type": "markdown",
   "metadata": {},
   "source": [
    "# Prior preferences"
   ]
  },
  {
   "cell_type": "code",
   "execution_count": 50,
   "metadata": {
    "collapsed": true
   },
   "outputs": [],
   "source": [
    "def compare_size(size1, size2, order):\n",
    "    \"\"\"Returns -1 is the image on the left is larger,\n",
    "    1 if the image on the right is larger, and 0 if they are the same size\"\"\"\n",
    "    if order==1:\n",
    "        left_size = size1\n",
    "        right_size = size2\n",
    "    else:\n",
    "        left_size = size2\n",
    "        right_size = size1\n",
    "        \n",
    "    if left_size > right_size:\n",
    "        return -1\n",
    "    elif left_size < right_size:\n",
    "        return 1\n",
    "    else:\n",
    "        return 0"
   ]
  },
  {
   "cell_type": "code",
   "execution_count": null,
   "metadata": {
    "collapsed": false
   },
   "outputs": [],
   "source": [
    "# get size and position preferences for the prior elicitation condition ('XX')\n",
    "\n",
    "prior_data = data[(data['Item']=='XX') & (data['Type'] == 'image')]\n",
    "prior_data['Value'] = prior_data['Value'].apply(get_vis_condition)\n",
    "prior_data['Field'] = prior_data['Field'].apply(get_all_vis_conditions)\n",
    "\n",
    "top_prior = []\n",
    "center_prior = []\n",
    "bottom_prior = []\n",
    "\n",
    "for subID in data['Time'].unique():\n",
    "    data_sub = prior_data[prior_data['Time']==subID]\n",
    "    location = [r['location'] for r in data_sub['Value']]\n",
    "    total = len(data_sub)\n",
    "    top_prior.append(location.count(0) * 1.0 / total)\n",
    "    center_prior.append(location.count(1) * 1.0 / total)\n",
    "    bottom_prior.append(location.count(2) * 1.0 / total)\n",
    "\n",
    "position_vals = [np.mean(top_prior), np.mean(center_prior), np.mean(bottom_prior)]\n",
    "position_std = [np.std(top_prior), np.std(center_prior), np.std(bottom_prior)]\n",
    "\n",
    "left_smaller = []\n",
    "equal = []\n",
    "left_larger = []\n",
    "\n",
    "size_prior = [0,0,0]\n",
    "for subID in data['Time'].unique():\n",
    "    data_sub = prior_data[prior_data['Time']==subID]\n",
    "    sizes = [compare_size(r['size1'], r['size2'], r['order']) for r in data_sub['Value']]\n",
    "    total = len(data_sub)\n",
    "    left_smaller.append(sizes.count(-1) * 1.0 / total)\n",
    "    equal.append(sizes.count(0) * 1.0 / total)\n",
    "    left_larger.append(sizes.count(1) * 1.0 / total)\n",
    "\n",
    "size_vals = [np.mean(left_smaller), np.mean(equal), np.mean(left_larger)]\n",
    "size_std = [np.std(left_smaller), np.std(equal), np.std(left_larger)]"
   ]
  },
  {
   "cell_type": "code",
   "execution_count": 40,
   "metadata": {
    "collapsed": false
   },
   "outputs": [
    {
     "data": {
      "image/png": "[encoded data removed]",
      "text/plain": [
       "<matplotlib.figure.Figure at 0x1079b0e90>"
      ]
     },
     "metadata": {},
     "output_type": "display_data"
    }
   ],
   "source": [
    "# plot the result \n",
    "\n",
    "num_subs = len(data['Time'].unique())\n",
    "\n",
    "fig = plt.figure(figsize=(7,3))\n",
    "ax = plt.subplot(121)\n",
    "\n",
    "position_stderr = [s / math.sqrt(num_subs) for s in position_std]\n",
    "size_stderr = [s / math.sqrt(num_subs) for s in size_std]\n",
    "\n",
    "plt.bar(range(3), position_vals, color='gray', width=1, yerr=position_stderr, \n",
    "        error_kw=dict(ecolor='darkslategray', lw=1, capsize=3, capthick=1))\n",
    "\n",
    "plt.xticks([x + 0.5 for x in range(3)], ['top', 'center', 'bottom'], fontsize=10)\n",
    "plt.ylabel('Proportion of trials', fontsize=10)\n",
    "plt.ylim([0, 0.65])\n",
    "ax.set_yticks(ax.get_yticks()[::2])\n",
    "\n",
    "ax = plt.subplot(122)\n",
    "#plt.hist(sizes, bins=[-1.5,-0.5,0.5,1.5], color='gray')\n",
    "plt.bar(range(3), size_vals, color='gray', width=1, yerr=size_stderr, \n",
    "        error_kw=dict(ecolor='darkslategray', lw=1, capsize=3, capthick=1))\n",
    "ax.set_yticks(ax.get_yticks()[::2])\n",
    "\n",
    "plt.xticks([x + 0.5 for x in range(3)], ['left larger', 'same', 'right larger'], fontsize=10)\n",
    "plt.ylabel('Proportion of trials', fontsize=10)\n",
    "plt.ylim([0, 0.65])\n",
    "\n",
    "fig.subplots_adjust(wspace=.4)"
   ]
  },
  {
   "cell_type": "markdown",
   "metadata": {},
   "source": [
    "# Comparing behavioral data with predictions"
   ]
  },
  {
   "cell_type": "code",
   "execution_count": 45,
   "metadata": {
    "collapsed": false
   },
   "outputs": [
    {
     "name": "stdout",
     "output_type": "stream",
     "text": [
      "left\n",
      "Mean: 0.8346035876940237\n",
      "STD: 0.1362850384175663\n",
      "\n",
      "right\n",
      "Mean: 0.1653964123059764\n",
      "STD: 0.1362850384175663\n",
      "\n",
      "smaller\n",
      "Mean: 0.19475555349010132\n",
      "STD: 0.0926263350843522\n",
      "\n",
      "same\n",
      "Mean: 0.5259317780462869\n",
      "STD: 0.13932982764102836\n",
      "\n",
      "larger\n",
      "Mean: 0.27931266846361186\n",
      "STD: 0.11247924527009122\n",
      "\n"
     ]
    }
   ],
   "source": [
    "# get behavior info \n",
    "\n",
    "def split_data(data):\n",
    "    raw_results_BA = data[(data['Item']=='BA') & (data['Type'] == 'image')]\n",
    "    results_BA = raw_results_BA['Value'].apply(get_vis_condition)\n",
    "    raw_results_AB = data[(data['Item']=='AB') & (data['Type'] == 'image')]\n",
    "    results_AB = raw_results_AB['Value'].apply(get_vis_condition)\n",
    "    return [results_AB, results_BA]\n",
    "\n",
    "def get_pct_left(results_AB, results_BA):\n",
    "    total = len(results_BA) + len(results_AB)\n",
    "    order_AB = [r['order'] for r in results_AB]\n",
    "    order_BA = [r['order'] for r in results_BA]\n",
    "    pctLeft = 1.0 * (order_AB.count(1) + order_BA.count(2)) / total\n",
    "    return pctLeft\n",
    "\n",
    "# get behavior info - size\n",
    "def get_size_stats(results_AB, results_BA):\n",
    "    total = len(results_BA) + len(results_AB)\n",
    "    numSmallerAB = sum([x['size1'] < x['size2'] for x in results_AB])\n",
    "    numSmallerBA = sum([x['size2'] < x['size1'] for x in results_BA])\n",
    "    numSameAB = sum([x['size1'] == x['size2'] for x in results_AB])\n",
    "    numSameBA = sum([x['size1'] == x['size2'] for x in results_BA])\n",
    "    pctSmaller = 1.0 * (numSmallerAB + numSmallerBA) / total\n",
    "    pctSame = 1.0 * (numSameAB + numSameBA) / total\n",
    "    return [pctSmaller, pctSame]\n",
    "\n",
    "def disp_stats(nums):\n",
    "    print('Mean: ' + str(np.mean(nums)))\n",
    "    print('STD: ' + str(np.std(nums)) + '\\n')\n",
    "\n",
    "def get_stats_all_subs(data):\n",
    "    pct_left = []\n",
    "    pct_smaller = []\n",
    "    pct_same = []\n",
    "    for subID in data['Time'].unique():\n",
    "        data_sub = data[data['Time']==subID]\n",
    "        [results_AB, results_BA] = split_data(data_sub)\n",
    "        pct_left.append(get_pct_left(results_AB, results_BA))\n",
    "        size_res = get_size_stats(results_AB, results_BA)\n",
    "        pct_smaller.append(size_res[0])\n",
    "        pct_same.append(size_res[1])\n",
    "    pct_right = [1-x for x in pct_left]\n",
    "    pct_larger = [1 - x - y for (x,y) in zip(pct_smaller, pct_same)]\n",
    "    print('left')\n",
    "    disp_stats(pct_left)\n",
    "    print('right')\n",
    "    disp_stats(pct_right)\n",
    "    print('smaller')\n",
    "    disp_stats(pct_smaller)\n",
    "    print('same')\n",
    "    disp_stats(pct_same)\n",
    "    print('larger')\n",
    "    disp_stats(pct_larger)\n",
    "    \n",
    "get_stats_all_subs(data)"
   ]
  },
  {
   "cell_type": "code",
   "execution_count": 61,
   "metadata": {
    "collapsed": false
   },
   "outputs": [
    {
     "data": {
      "image/png": "[encoded data removed]",
      "text/plain": [
       "<matplotlib.figure.Figure at 0x108b7d4d0>"
      ]
     },
     "metadata": {},
     "output_type": "display_data"
    }
   ],
   "source": [
    "# Plot order and size preferences. \n",
    "# Information for the models is produced by the \"generate predictions\" section of the modeling code. \n",
    "\n",
    "fig = plt.figure(figsize=(10,4))\n",
    "\n",
    "plt.subplot(211)\n",
    "width = 0.3\n",
    "pos = [0,1,2,3,4,5]\n",
    "colors = ['#006d2c', 'darkslategray', 'gray', '#b2e2e2', '#66c2a4', '#2ca25f']\n",
    "labels = ['Participants', 'Prior only', 'Non-scalar (no prior)', \n",
    "          'Scalar (no prior)', 'Non-scalar (with prior)', 'Scalar (with prior)']\n",
    "\n",
    "patches= [mpatches.Patch(color=c, label=l) for c, l in zip(colors, labels)]\n",
    "\n",
    "numSubs = len(data['Time'].unique())\n",
    "\n",
    "proportionOnLeft = [.834, .503, .837, .831, .836, .832]   \n",
    "std = [.136, .007, .005, .006, .005, .005]\n",
    "stderr = [s / math.sqrt(numSubs) for s in std]\n",
    "\n",
    "plt.bar([p - width for p in pos], proportionOnLeft, width=width, color=colors, yerr=stderr, \n",
    "        error_kw=dict(ecolor=[.1, .1, .1], lw=1, capsize=3, capthick=1))\n",
    "plt.bar([p for p in pos], [1 - x for x in proportionOnLeft], width=width, color=colors, yerr=stderr,\n",
    "        error_kw=dict(ecolor=[.1, .1, .1], lw=1, capsize=3, capthick=1))\n",
    "plt.xlim([-0.5, 5.5])\n",
    "plt.ylim([0,1])\n",
    "plt.legend(handles=patches, fontsize=10, bbox_to_anchor=(1.3, 0.3))\n",
    "\n",
    "ticks = sorted([p - width*2/3 for p in pos] + [p + width*2/3 for p in pos])\n",
    "labels = []\n",
    "for p in pos:\n",
    "    labels.append('LEFT')\n",
    "    labels.append('RIGHT')\n",
    "    \n",
    "\n",
    "matplotlib.rcParams.update({'font.size': 9})\n",
    "#plt.xlabel('Location of the image mentioned first')\n",
    "plt.ylabel('Probability', fontsize=9)\n",
    "_ = plt.xticks(ticks, labels, fontsize=8)\n",
    "plt.title('A: Order effects', {'fontweight': 'bold', 'fontsize': 9.5})\n",
    "\n",
    "##############\n",
    "\n",
    "plt.subplot(212)\n",
    "\n",
    "width = 0.25\n",
    "\n",
    "patches= [mpatches.Patch(color=c, label=l) for c, l in zip(colors, labels)]\n",
    "\n",
    "proportionSmaller = [.195, .226, .196, .317, .195, .225]\n",
    "proportionSame = [.526, .548, .407, .337, .521, .500]\n",
    "std_smaller = [.092, .006, .005, .006, .006, .006]\n",
    "std_same = [.139, .007, .007, .007, .007, .006]\n",
    "std_larger = [.112, .007, .007, .007, .006, .006]\n",
    "stderr_smaller = [s / math.sqrt(numSubs) for s in std_smaller]\n",
    "stderr_same = [s / math.sqrt(numSubs) for s in std_same]\n",
    "stderr_larger = [s / math.sqrt(numSubs) for s in std_larger]\n",
    "\n",
    "plt.bar([p + width for p in pos], proportionSmaller, width=width, color=colors, yerr=stderr_smaller, \n",
    "        error_kw=dict(ecolor='darkslategray', lw=1, capsize=3, capthick=1))\n",
    "plt.bar([p for p in pos], proportionSame, width=width, color=colors, yerr=stderr_same, \n",
    "        error_kw=dict(ecolor='darkslategray', lw=1, capsize=3, capthick=1))\n",
    "plt.bar([p - width for p in pos], [1 - x - y for x,y in zip(proportionSmaller, proportionSame)], \n",
    "        width=width, color=colors, yerr=stderr_larger, \n",
    "        error_kw=dict(ecolor='darkslategray', lw=1, capsize=3, capthick=1))\n",
    "plt.ylim([0,0.6])\n",
    "#plt.legend(handles=patches, fontsize=10, bbox_to_anchor=(1.29, 1))\n",
    "\n",
    "ticks = sorted([p - width/2 for p in pos] + [p + width/2 for p in pos] + [p + width * 3 / 2 for p in pos])\n",
    "labels = []\n",
    "for p in pos:\n",
    "    labels.append('LARGER')\n",
    "    labels.append('SAME')\n",
    "    labels.append('SMALLER')\n",
    "    \n",
    "matplotlib.rcParams.update({'font.size': 9})\n",
    "#plt.xlabel('Size of the image mentioned first')\n",
    "plt.ylabel('Probability', fontsize=9)\n",
    "plt.xlim([-0.45, 5.7])\n",
    "_ = plt.xticks(ticks, labels, fontsize=8, rotation='vertical')\n",
    "plt.title('B: Size effects', {'fontweight': 'bold', 'fontsize': 9.5})\n",
    "\n",
    "fig.subplots_adjust(hspace=.45)    "
   ]
  },
  {
   "cell_type": "markdown",
   "metadata": {},
   "source": [
    "# Convert Data to Long Format for Prior Preference Prediction"
   ]
  },
  {
   "cell_type": "code",
   "execution_count": 70,
   "metadata": {
    "collapsed": true
   },
   "outputs": [],
   "source": [
    "# used by mlogit for prior prediction (which is then used by RSA models)\n",
    "\n",
    "def get_relative_size(value):\n",
    "    if value['order'] == 1:\n",
    "        size_left = value['size1']\n",
    "        size_right = value['size2']\n",
    "    else:\n",
    "        size_left = value['size2']\n",
    "        size_right = value['size1']\n",
    "    if size_left < size_right:\n",
    "        return -1 \n",
    "    elif size_left == size_right:\n",
    "        return 0\n",
    "    else:\n",
    "        return 1\n",
    "\n",
    "def split_row(row, index):\n",
    "    df = pd.DataFrame()\n",
    "    custom_id = index\n",
    "    for i, option in enumerate(row['Field']):\n",
    "        new_row = {}\n",
    "        new_row['custom_id'] = index + 1\n",
    "        new_row['mode_id'] = int(option['location']) + 1\n",
    "        rel_size = get_relative_size(option)\n",
    "        new_row['left_smaller'] = int(rel_size==-1)\n",
    "        new_row['equal_size'] = int(rel_size==0)\n",
    "        new_row['left_larger'] = int(rel_size==1)\n",
    "        new_row['CHOICE'] = int(option==row['Value'])\n",
    "        new_row['SUB'] = row['Time']\n",
    "        new_row['ITEM'] = int(row['Group'])\n",
    "        df = df.append(pd.DataFrame(new_row, index=[i]))\n",
    "    return df\n",
    "\n",
    "def convert2long(data):\n",
    "    data_new = pd.DataFrame()\n",
    "    for index, row in data.iterrows():\n",
    "        data_new = data_new.append(split_row(row, index), ignore_index=True)\n",
    "    return data_new"
   ]
  },
  {
   "cell_type": "code",
   "execution_count": null,
   "metadata": {
    "collapsed": false
   },
   "outputs": [],
   "source": [
    "test_data = data[(data['Item']!='XX') & (data['Type'] == 'image')]\n",
    "test_data['Value'] = test_data['Value'].apply(get_vis_condition)\n",
    "test_data['Field'] = test_data['Field'].apply(get_all_vis_conditions)\n",
    "\n",
    "prior_data_new = convert2long(prior_data)\n",
    "test_data_new = convert2long(test_data)"
   ]
  },
  {
   "cell_type": "code",
   "execution_count": 77,
   "metadata": {
    "collapsed": true
   },
   "outputs": [],
   "source": [
    "prior_data_new.to_csv('../Data/Processed/prior_data_long.csv', index=False)\n",
    "test_data_new.to_csv('../Data/Processed/binomial_data_long.csv', index=False)"
   ]
  },
  {
   "cell_type": "code",
   "execution_count": null,
   "metadata": {
    "collapsed": true
   },
   "outputs": [],
   "source": [
    "### GO TO R, RUN PRIOR PREDICTION ANALYSES\n",
    "\n",
    "# then convert results into webppl-readable format here\n",
    "mlogit_prediction = pd.read_csv('../Data/Processed/predictions-mlogit.csv')\n",
    "del mlogit_prediction['Unnamed: 0']\n",
    "mlogit_prior = mlogit_prediction.values.tolist()\n",
    "with open('../Data/Processed/mlogit_prior.txt', 'w') as f:\n",
    "    json.dump(mlogit_prior, f)"
   ]
  }
 ],
 "metadata": {
  "kernelspec": {
   "display_name": "Python 2",
   "language": "python",
   "name": "python2"
  },
  "language_info": {
   "codemirror_mode": {
    "name": "ipython",
    "version": 2
   },
   "file_extension": ".py",
   "mimetype": "text/x-python",
   "name": "python",
   "nbconvert_exporter": "python",
   "pygments_lexer": "ipython2",
   "version": "2.7.12"
  }
 },
 "nbformat": 4,
 "nbformat_minor": 1
}
